{
 "cells": [
  {
   "cell_type": "code",
   "execution_count": 1,
   "id": "8acff56d",
   "metadata": {
    "_cell_guid": "b1076dfc-b9ad-4769-8c92-a6c4dae69d19",
    "_uuid": "8f2839f25d086af736a60e9eeb907d3b93b6e0e5",
    "execution": {
     "iopub.execute_input": "2024-05-13T07:41:13.783261Z",
     "iopub.status.busy": "2024-05-13T07:41:13.782096Z",
     "iopub.status.idle": "2024-05-13T07:41:14.592218Z",
     "shell.execute_reply": "2024-05-13T07:41:14.591162Z"
    },
    "papermill": {
     "duration": 0.82067,
     "end_time": "2024-05-13T07:41:14.594619",
     "exception": false,
     "start_time": "2024-05-13T07:41:13.773949",
     "status": "completed"
    },
    "tags": []
   },
   "outputs": [
    {
     "name": "stdout",
     "output_type": "stream",
     "text": [
      "/kaggle/input/foodcom-recipes-and-reviews/recipes.parquet\n",
      "/kaggle/input/foodcom-recipes-and-reviews/reviews.parquet\n",
      "/kaggle/input/foodcom-recipes-and-reviews/reviews.csv\n",
      "/kaggle/input/foodcom-recipes-and-reviews/recipes.csv\n"
     ]
    }
   ],
   "source": [
    "# This Python 3 environment comes with many helpful analytics libraries installed\n",
    "# It is defined by the kaggle/python Docker image: https://github.com/kaggle/docker-python\n",
    "# For example, here's several helpful packages to load\n",
    "\n",
    "import numpy as np # linear algebra\n",
    "import pandas as pd # data processing, CSV file I/O (e.g. pd.read_csv)\n",
    "\n",
    "# Input data files are available in the read-only \"../input/\" directory\n",
    "# For example, running this (by clicking run or pressing Shift+Enter) will list all files under the input directory\n",
    "\n",
    "import os\n",
    "for dirname, _, filenames in os.walk('/kaggle/input'):\n",
    "    for filename in filenames:\n",
    "        print(os.path.join(dirname, filename))\n",
    "\n",
    "#os.mkdir('/kaggle/temp/artifacts')\n",
    "\n",
    "# You can write up to 20GB to the current directory (/kaggle/working/) that gets preserved as output when you create a version using \"Save & Run All\" \n",
    "# You can also write temporary files to /kaggle/temp/, but they won't be saved outside of the current session"
   ]
  },
  {
   "cell_type": "code",
   "execution_count": 2,
   "id": "be92efcd",
   "metadata": {
    "execution": {
     "iopub.execute_input": "2024-05-13T07:41:14.609660Z",
     "iopub.status.busy": "2024-05-13T07:41:14.608810Z",
     "iopub.status.idle": "2024-05-13T07:41:33.964356Z",
     "shell.execute_reply": "2024-05-13T07:41:33.963226Z"
    },
    "papermill": {
     "duration": 19.365342,
     "end_time": "2024-05-13T07:41:33.966961",
     "exception": false,
     "start_time": "2024-05-13T07:41:14.601619",
     "status": "completed"
    },
    "tags": []
   },
   "outputs": [],
   "source": [
    "#load data from csv file\n",
    "data = pd.read_csv('/kaggle/input/foodcom-recipes-and-reviews/recipes.csv')"
   ]
  },
  {
   "cell_type": "code",
   "execution_count": 3,
   "id": "8652cec7",
   "metadata": {
    "execution": {
     "iopub.execute_input": "2024-05-13T07:41:33.980885Z",
     "iopub.status.busy": "2024-05-13T07:41:33.979921Z",
     "iopub.status.idle": "2024-05-13T07:41:34.022840Z",
     "shell.execute_reply": "2024-05-13T07:41:34.021658Z"
    },
    "papermill": {
     "duration": 0.052311,
     "end_time": "2024-05-13T07:41:34.025214",
     "exception": false,
     "start_time": "2024-05-13T07:41:33.972903",
     "status": "completed"
    },
    "tags": []
   },
   "outputs": [
    {
     "data": {
      "text/html": [
       "<div>\n",
       "<style scoped>\n",
       "    .dataframe tbody tr th:only-of-type {\n",
       "        vertical-align: middle;\n",
       "    }\n",
       "\n",
       "    .dataframe tbody tr th {\n",
       "        vertical-align: top;\n",
       "    }\n",
       "\n",
       "    .dataframe thead th {\n",
       "        text-align: right;\n",
       "    }\n",
       "</style>\n",
       "<table border=\"1\" class=\"dataframe\">\n",
       "  <thead>\n",
       "    <tr style=\"text-align: right;\">\n",
       "      <th></th>\n",
       "      <th>RecipeId</th>\n",
       "      <th>Name</th>\n",
       "      <th>AuthorId</th>\n",
       "      <th>AuthorName</th>\n",
       "      <th>CookTime</th>\n",
       "      <th>PrepTime</th>\n",
       "      <th>TotalTime</th>\n",
       "      <th>DatePublished</th>\n",
       "      <th>Description</th>\n",
       "      <th>Images</th>\n",
       "      <th>...</th>\n",
       "      <th>SaturatedFatContent</th>\n",
       "      <th>CholesterolContent</th>\n",
       "      <th>SodiumContent</th>\n",
       "      <th>CarbohydrateContent</th>\n",
       "      <th>FiberContent</th>\n",
       "      <th>SugarContent</th>\n",
       "      <th>ProteinContent</th>\n",
       "      <th>RecipeServings</th>\n",
       "      <th>RecipeYield</th>\n",
       "      <th>RecipeInstructions</th>\n",
       "    </tr>\n",
       "  </thead>\n",
       "  <tbody>\n",
       "    <tr>\n",
       "      <th>0</th>\n",
       "      <td>38</td>\n",
       "      <td>Low-Fat Berry Blue Frozen Dessert</td>\n",
       "      <td>1533</td>\n",
       "      <td>Dancer</td>\n",
       "      <td>PT24H</td>\n",
       "      <td>PT45M</td>\n",
       "      <td>PT24H45M</td>\n",
       "      <td>1999-08-09T21:46:00Z</td>\n",
       "      <td>Make and share this Low-Fat Berry Blue Frozen ...</td>\n",
       "      <td>c(\"https://img.sndimg.com/food/image/upload/w_...</td>\n",
       "      <td>...</td>\n",
       "      <td>1.3</td>\n",
       "      <td>8.0</td>\n",
       "      <td>29.8</td>\n",
       "      <td>37.1</td>\n",
       "      <td>3.6</td>\n",
       "      <td>30.2</td>\n",
       "      <td>3.2</td>\n",
       "      <td>4.0</td>\n",
       "      <td>NaN</td>\n",
       "      <td>c(\"Toss 2 cups berries with sugar.\", \"Let stan...</td>\n",
       "    </tr>\n",
       "    <tr>\n",
       "      <th>1</th>\n",
       "      <td>39</td>\n",
       "      <td>Biryani</td>\n",
       "      <td>1567</td>\n",
       "      <td>elly9812</td>\n",
       "      <td>PT25M</td>\n",
       "      <td>PT4H</td>\n",
       "      <td>PT4H25M</td>\n",
       "      <td>1999-08-29T13:12:00Z</td>\n",
       "      <td>Make and share this Biryani recipe from Food.com.</td>\n",
       "      <td>c(\"https://img.sndimg.com/food/image/upload/w_...</td>\n",
       "      <td>...</td>\n",
       "      <td>16.6</td>\n",
       "      <td>372.8</td>\n",
       "      <td>368.4</td>\n",
       "      <td>84.4</td>\n",
       "      <td>9.0</td>\n",
       "      <td>20.4</td>\n",
       "      <td>63.4</td>\n",
       "      <td>6.0</td>\n",
       "      <td>NaN</td>\n",
       "      <td>c(\"Soak saffron in warm milk for 5 minutes and...</td>\n",
       "    </tr>\n",
       "    <tr>\n",
       "      <th>2</th>\n",
       "      <td>40</td>\n",
       "      <td>Best Lemonade</td>\n",
       "      <td>1566</td>\n",
       "      <td>Stephen Little</td>\n",
       "      <td>PT5M</td>\n",
       "      <td>PT30M</td>\n",
       "      <td>PT35M</td>\n",
       "      <td>1999-09-05T19:52:00Z</td>\n",
       "      <td>This is from one of my  first Good House Keepi...</td>\n",
       "      <td>c(\"https://img.sndimg.com/food/image/upload/w_...</td>\n",
       "      <td>...</td>\n",
       "      <td>0.0</td>\n",
       "      <td>0.0</td>\n",
       "      <td>1.8</td>\n",
       "      <td>81.5</td>\n",
       "      <td>0.4</td>\n",
       "      <td>77.2</td>\n",
       "      <td>0.3</td>\n",
       "      <td>4.0</td>\n",
       "      <td>NaN</td>\n",
       "      <td>c(\"Into a 1 quart Jar with tight fitting lid, ...</td>\n",
       "    </tr>\n",
       "    <tr>\n",
       "      <th>3</th>\n",
       "      <td>41</td>\n",
       "      <td>Carina's Tofu-Vegetable Kebabs</td>\n",
       "      <td>1586</td>\n",
       "      <td>Cyclopz</td>\n",
       "      <td>PT20M</td>\n",
       "      <td>PT24H</td>\n",
       "      <td>PT24H20M</td>\n",
       "      <td>1999-09-03T14:54:00Z</td>\n",
       "      <td>This dish is best prepared a day in advance to...</td>\n",
       "      <td>c(\"https://img.sndimg.com/food/image/upload/w_...</td>\n",
       "      <td>...</td>\n",
       "      <td>3.8</td>\n",
       "      <td>0.0</td>\n",
       "      <td>1558.6</td>\n",
       "      <td>64.2</td>\n",
       "      <td>17.3</td>\n",
       "      <td>32.1</td>\n",
       "      <td>29.3</td>\n",
       "      <td>2.0</td>\n",
       "      <td>4 kebabs</td>\n",
       "      <td>c(\"Drain the tofu, carefully squeezing out exc...</td>\n",
       "    </tr>\n",
       "    <tr>\n",
       "      <th>4</th>\n",
       "      <td>42</td>\n",
       "      <td>Cabbage Soup</td>\n",
       "      <td>1538</td>\n",
       "      <td>Duckie067</td>\n",
       "      <td>PT30M</td>\n",
       "      <td>PT20M</td>\n",
       "      <td>PT50M</td>\n",
       "      <td>1999-09-19T06:19:00Z</td>\n",
       "      <td>Make and share this Cabbage Soup recipe from F...</td>\n",
       "      <td>\"https://img.sndimg.com/food/image/upload/w_55...</td>\n",
       "      <td>...</td>\n",
       "      <td>0.1</td>\n",
       "      <td>0.0</td>\n",
       "      <td>959.3</td>\n",
       "      <td>25.1</td>\n",
       "      <td>4.8</td>\n",
       "      <td>17.7</td>\n",
       "      <td>4.3</td>\n",
       "      <td>4.0</td>\n",
       "      <td>NaN</td>\n",
       "      <td>c(\"Mix everything together and bring to a boil...</td>\n",
       "    </tr>\n",
       "  </tbody>\n",
       "</table>\n",
       "<p>5 rows × 28 columns</p>\n",
       "</div>"
      ],
      "text/plain": [
       "   RecipeId                               Name  AuthorId      AuthorName  \\\n",
       "0        38  Low-Fat Berry Blue Frozen Dessert      1533          Dancer   \n",
       "1        39                            Biryani      1567        elly9812   \n",
       "2        40                      Best Lemonade      1566  Stephen Little   \n",
       "3        41     Carina's Tofu-Vegetable Kebabs      1586         Cyclopz   \n",
       "4        42                       Cabbage Soup      1538       Duckie067   \n",
       "\n",
       "  CookTime PrepTime TotalTime         DatePublished  \\\n",
       "0    PT24H    PT45M  PT24H45M  1999-08-09T21:46:00Z   \n",
       "1    PT25M     PT4H   PT4H25M  1999-08-29T13:12:00Z   \n",
       "2     PT5M    PT30M     PT35M  1999-09-05T19:52:00Z   \n",
       "3    PT20M    PT24H  PT24H20M  1999-09-03T14:54:00Z   \n",
       "4    PT30M    PT20M     PT50M  1999-09-19T06:19:00Z   \n",
       "\n",
       "                                         Description  \\\n",
       "0  Make and share this Low-Fat Berry Blue Frozen ...   \n",
       "1  Make and share this Biryani recipe from Food.com.   \n",
       "2  This is from one of my  first Good House Keepi...   \n",
       "3  This dish is best prepared a day in advance to...   \n",
       "4  Make and share this Cabbage Soup recipe from F...   \n",
       "\n",
       "                                              Images  ... SaturatedFatContent  \\\n",
       "0  c(\"https://img.sndimg.com/food/image/upload/w_...  ...                 1.3   \n",
       "1  c(\"https://img.sndimg.com/food/image/upload/w_...  ...                16.6   \n",
       "2  c(\"https://img.sndimg.com/food/image/upload/w_...  ...                 0.0   \n",
       "3  c(\"https://img.sndimg.com/food/image/upload/w_...  ...                 3.8   \n",
       "4  \"https://img.sndimg.com/food/image/upload/w_55...  ...                 0.1   \n",
       "\n",
       "  CholesterolContent SodiumContent CarbohydrateContent  FiberContent  \\\n",
       "0                8.0          29.8                37.1           3.6   \n",
       "1              372.8         368.4                84.4           9.0   \n",
       "2                0.0           1.8                81.5           0.4   \n",
       "3                0.0        1558.6                64.2          17.3   \n",
       "4                0.0         959.3                25.1           4.8   \n",
       "\n",
       "   SugarContent  ProteinContent  RecipeServings  RecipeYield  \\\n",
       "0          30.2             3.2             4.0          NaN   \n",
       "1          20.4            63.4             6.0          NaN   \n",
       "2          77.2             0.3             4.0          NaN   \n",
       "3          32.1            29.3             2.0     4 kebabs   \n",
       "4          17.7             4.3             4.0          NaN   \n",
       "\n",
       "                                  RecipeInstructions  \n",
       "0  c(\"Toss 2 cups berries with sugar.\", \"Let stan...  \n",
       "1  c(\"Soak saffron in warm milk for 5 minutes and...  \n",
       "2  c(\"Into a 1 quart Jar with tight fitting lid, ...  \n",
       "3  c(\"Drain the tofu, carefully squeezing out exc...  \n",
       "4  c(\"Mix everything together and bring to a boil...  \n",
       "\n",
       "[5 rows x 28 columns]"
      ]
     },
     "execution_count": 3,
     "metadata": {},
     "output_type": "execute_result"
    }
   ],
   "source": [
    "#view head of data\n",
    "data.head()"
   ]
  },
  {
   "cell_type": "code",
   "execution_count": 4,
   "id": "cff2271f",
   "metadata": {
    "execution": {
     "iopub.execute_input": "2024-05-13T07:41:34.039733Z",
     "iopub.status.busy": "2024-05-13T07:41:34.038796Z",
     "iopub.status.idle": "2024-05-13T07:41:34.488583Z",
     "shell.execute_reply": "2024-05-13T07:41:34.487545Z"
    },
    "papermill": {
     "duration": 0.459855,
     "end_time": "2024-05-13T07:41:34.491354",
     "exception": false,
     "start_time": "2024-05-13T07:41:34.031499",
     "status": "completed"
    },
    "tags": []
   },
   "outputs": [
    {
     "name": "stdout",
     "output_type": "stream",
     "text": [
      "<class 'pandas.core.frame.DataFrame'>\n",
      "RangeIndex: 522517 entries, 0 to 522516\n",
      "Data columns (total 28 columns):\n",
      " #   Column                      Non-Null Count   Dtype  \n",
      "---  ------                      --------------   -----  \n",
      " 0   RecipeId                    522517 non-null  int64  \n",
      " 1   Name                        522517 non-null  object \n",
      " 2   AuthorId                    522517 non-null  int64  \n",
      " 3   AuthorName                  522517 non-null  object \n",
      " 4   CookTime                    439972 non-null  object \n",
      " 5   PrepTime                    522517 non-null  object \n",
      " 6   TotalTime                   522517 non-null  object \n",
      " 7   DatePublished               522517 non-null  object \n",
      " 8   Description                 522512 non-null  object \n",
      " 9   Images                      522516 non-null  object \n",
      " 10  RecipeCategory              521766 non-null  object \n",
      " 11  Keywords                    505280 non-null  object \n",
      " 12  RecipeIngredientQuantities  522514 non-null  object \n",
      " 13  RecipeIngredientParts       522517 non-null  object \n",
      " 14  AggregatedRating            269294 non-null  float64\n",
      " 15  ReviewCount                 275028 non-null  float64\n",
      " 16  Calories                    522517 non-null  float64\n",
      " 17  FatContent                  522517 non-null  float64\n",
      " 18  SaturatedFatContent         522517 non-null  float64\n",
      " 19  CholesterolContent          522517 non-null  float64\n",
      " 20  SodiumContent               522517 non-null  float64\n",
      " 21  CarbohydrateContent         522517 non-null  float64\n",
      " 22  FiberContent                522517 non-null  float64\n",
      " 23  SugarContent                522517 non-null  float64\n",
      " 24  ProteinContent              522517 non-null  float64\n",
      " 25  RecipeServings              339606 non-null  float64\n",
      " 26  RecipeYield                 174446 non-null  object \n",
      " 27  RecipeInstructions          522517 non-null  object \n",
      "dtypes: float64(12), int64(2), object(14)\n",
      "memory usage: 111.6+ MB\n"
     ]
    }
   ],
   "source": [
    "data.info()"
   ]
  },
  {
   "cell_type": "code",
   "execution_count": 5,
   "id": "e6f9693f",
   "metadata": {
    "execution": {
     "iopub.execute_input": "2024-05-13T07:41:34.506647Z",
     "iopub.status.busy": "2024-05-13T07:41:34.505716Z",
     "iopub.status.idle": "2024-05-13T07:41:34.512053Z",
     "shell.execute_reply": "2024-05-13T07:41:34.511061Z"
    },
    "papermill": {
     "duration": 0.016403,
     "end_time": "2024-05-13T07:41:34.514199",
     "exception": false,
     "start_time": "2024-05-13T07:41:34.497796",
     "status": "completed"
    },
    "tags": []
   },
   "outputs": [
    {
     "data": {
      "text/plain": [
       "(522517, 28)"
      ]
     },
     "execution_count": 5,
     "metadata": {},
     "output_type": "execute_result"
    }
   ],
   "source": [
    "#check total of rows and columns in data\n",
    "data.shape"
   ]
  },
  {
   "cell_type": "code",
   "execution_count": 6,
   "id": "0e8098d3",
   "metadata": {
    "execution": {
     "iopub.execute_input": "2024-05-13T07:41:34.528056Z",
     "iopub.status.busy": "2024-05-13T07:41:34.527699Z",
     "iopub.status.idle": "2024-05-13T07:41:37.059572Z",
     "shell.execute_reply": "2024-05-13T07:41:37.058592Z"
    },
    "papermill": {
     "duration": 2.541343,
     "end_time": "2024-05-13T07:41:37.061863",
     "exception": false,
     "start_time": "2024-05-13T07:41:34.520520",
     "status": "completed"
    },
    "tags": []
   },
   "outputs": [
    {
     "data": {
      "text/plain": [
       "RecipeId                      522517\n",
       "Name                          438188\n",
       "AuthorId                       57178\n",
       "AuthorName                     56793\n",
       "CookTime                         490\n",
       "PrepTime                         318\n",
       "TotalTime                       1240\n",
       "DatePublished                 245540\n",
       "Description                   492838\n",
       "Images                        165889\n",
       "RecipeCategory                   311\n",
       "Keywords                      216569\n",
       "RecipeIngredientQuantities    459571\n",
       "RecipeIngredientParts         497120\n",
       "AggregatedRating                   9\n",
       "ReviewCount                      420\n",
       "Calories                       30138\n",
       "FatContent                      4523\n",
       "SaturatedFatContent             2533\n",
       "CholesterolContent              9803\n",
       "SodiumContent                  40455\n",
       "CarbohydrateContent             8102\n",
       "FiberContent                    1067\n",
       "SugarContent                    6008\n",
       "ProteinContent                  2581\n",
       "RecipeServings                   171\n",
       "RecipeYield                    34043\n",
       "RecipeInstructions            519993\n",
       "dtype: int64"
      ]
     },
     "execution_count": 6,
     "metadata": {},
     "output_type": "execute_result"
    }
   ],
   "source": [
    "#unique/non-duplicate value in every columns\n",
    "data.nunique()"
   ]
  },
  {
   "cell_type": "code",
   "execution_count": 7,
   "id": "87a1aaab",
   "metadata": {
    "execution": {
     "iopub.execute_input": "2024-05-13T07:41:37.077082Z",
     "iopub.status.busy": "2024-05-13T07:41:37.076213Z",
     "iopub.status.idle": "2024-05-13T07:41:37.508145Z",
     "shell.execute_reply": "2024-05-13T07:41:37.507116Z"
    },
    "papermill": {
     "duration": 0.441936,
     "end_time": "2024-05-13T07:41:37.510464",
     "exception": false,
     "start_time": "2024-05-13T07:41:37.068528",
     "status": "completed"
    },
    "tags": []
   },
   "outputs": [
    {
     "data": {
      "text/plain": [
       "RecipeId                           0\n",
       "Name                               0\n",
       "AuthorId                           0\n",
       "AuthorName                         0\n",
       "CookTime                       82545\n",
       "PrepTime                           0\n",
       "TotalTime                          0\n",
       "DatePublished                      0\n",
       "Description                        5\n",
       "Images                             1\n",
       "RecipeCategory                   751\n",
       "Keywords                       17237\n",
       "RecipeIngredientQuantities         3\n",
       "RecipeIngredientParts              0\n",
       "AggregatedRating              253223\n",
       "ReviewCount                   247489\n",
       "Calories                           0\n",
       "FatContent                         0\n",
       "SaturatedFatContent                0\n",
       "CholesterolContent                 0\n",
       "SodiumContent                      0\n",
       "CarbohydrateContent                0\n",
       "FiberContent                       0\n",
       "SugarContent                       0\n",
       "ProteinContent                     0\n",
       "RecipeServings                182911\n",
       "RecipeYield                   348071\n",
       "RecipeInstructions                 0\n",
       "dtype: int64"
      ]
     },
     "execution_count": 7,
     "metadata": {},
     "output_type": "execute_result"
    }
   ],
   "source": [
    "#null value in data\n",
    "data.isnull().sum()"
   ]
  },
  {
   "cell_type": "markdown",
   "id": "a061b98a",
   "metadata": {
    "papermill": {
     "duration": 0.006386,
     "end_time": "2024-05-13T07:41:37.523499",
     "exception": false,
     "start_time": "2024-05-13T07:41:37.517113",
     "status": "completed"
    },
    "tags": []
   },
   "source": [
    "**Data Cleaning**"
   ]
  },
  {
   "cell_type": "code",
   "execution_count": 8,
   "id": "867478c5",
   "metadata": {
    "execution": {
     "iopub.execute_input": "2024-05-13T07:41:37.538273Z",
     "iopub.status.busy": "2024-05-13T07:41:37.537878Z",
     "iopub.status.idle": "2024-05-13T07:41:37.544186Z",
     "shell.execute_reply": "2024-05-13T07:41:37.543297Z"
    },
    "papermill": {
     "duration": 0.016391,
     "end_time": "2024-05-13T07:41:37.546375",
     "exception": false,
     "start_time": "2024-05-13T07:41:37.529984",
     "status": "completed"
    },
    "tags": []
   },
   "outputs": [],
   "source": [
    "data.RecipeServings = pd.to_numeric(data.RecipeServings, errors='coerce')"
   ]
  },
  {
   "cell_type": "code",
   "execution_count": 9,
   "id": "c16fbb65",
   "metadata": {
    "execution": {
     "iopub.execute_input": "2024-05-13T07:41:37.562502Z",
     "iopub.status.busy": "2024-05-13T07:41:37.562109Z",
     "iopub.status.idle": "2024-05-13T07:41:38.398721Z",
     "shell.execute_reply": "2024-05-13T07:41:38.397722Z"
    },
    "papermill": {
     "duration": 0.847064,
     "end_time": "2024-05-13T07:41:38.401218",
     "exception": false,
     "start_time": "2024-05-13T07:41:37.554154",
     "status": "completed"
    },
    "tags": []
   },
   "outputs": [],
   "source": [
    "#remove missing value\n",
    "data.dropna(subset = ['ReviewCount'], how = 'any', inplace = True)\n",
    "data.dropna(subset = ['AggregatedRating'], how = 'any', inplace = True)\n",
    "data.dropna(subset = ['Images'], how = 'any', inplace = True)\n",
    "data.dropna(subset = ['CookTime'], how = 'any', inplace = True)\n",
    "data.dropna(subset = ['RecipeCategory'], how = 'any', inplace = True)\n",
    "data.dropna(subset = ['Keywords'], how = 'any', inplace = True)\n",
    "data.dropna(subset = ['RecipeServings'], how = 'any', inplace = True)\n",
    "data.dropna(subset = ['RecipeYield'], how = 'any', inplace = True)"
   ]
  },
  {
   "cell_type": "code",
   "execution_count": 10,
   "id": "5c868ff7",
   "metadata": {
    "execution": {
     "iopub.execute_input": "2024-05-13T07:41:38.416954Z",
     "iopub.status.busy": "2024-05-13T07:41:38.416115Z",
     "iopub.status.idle": "2024-05-13T07:41:38.434798Z",
     "shell.execute_reply": "2024-05-13T07:41:38.433831Z"
    },
    "papermill": {
     "duration": 0.029279,
     "end_time": "2024-05-13T07:41:38.437404",
     "exception": false,
     "start_time": "2024-05-13T07:41:38.408125",
     "status": "completed"
    },
    "tags": []
   },
   "outputs": [],
   "source": [
    "#remove unused columns\n",
    "data.drop(columns = [\"AuthorId\", \"AuthorName\", \"DatePublished\", \"Calories\", \"FatContent\", \"SaturatedFatContent\", \"CholesterolContent\", \"SodiumContent\", \"CarbohydrateContent\", \"FiberContent\", \"SugarContent\", \"ProteinContent\"], inplace = True)"
   ]
  },
  {
   "cell_type": "code",
   "execution_count": 11,
   "id": "157a813d",
   "metadata": {
    "execution": {
     "iopub.execute_input": "2024-05-13T07:41:38.452725Z",
     "iopub.status.busy": "2024-05-13T07:41:38.452338Z",
     "iopub.status.idle": "2024-05-13T07:41:38.482131Z",
     "shell.execute_reply": "2024-05-13T07:41:38.481125Z"
    },
    "papermill": {
     "duration": 0.040412,
     "end_time": "2024-05-13T07:41:38.484833",
     "exception": false,
     "start_time": "2024-05-13T07:41:38.444421",
     "status": "completed"
    },
    "tags": []
   },
   "outputs": [
    {
     "data": {
      "text/html": [
       "<div>\n",
       "<style scoped>\n",
       "    .dataframe tbody tr th:only-of-type {\n",
       "        vertical-align: middle;\n",
       "    }\n",
       "\n",
       "    .dataframe tbody tr th {\n",
       "        vertical-align: top;\n",
       "    }\n",
       "\n",
       "    .dataframe thead th {\n",
       "        text-align: right;\n",
       "    }\n",
       "</style>\n",
       "<table border=\"1\" class=\"dataframe\">\n",
       "  <thead>\n",
       "    <tr style=\"text-align: right;\">\n",
       "      <th></th>\n",
       "      <th>RecipeId</th>\n",
       "      <th>Name</th>\n",
       "      <th>CookTime</th>\n",
       "      <th>PrepTime</th>\n",
       "      <th>TotalTime</th>\n",
       "      <th>Description</th>\n",
       "      <th>Images</th>\n",
       "      <th>RecipeCategory</th>\n",
       "      <th>Keywords</th>\n",
       "      <th>RecipeIngredientQuantities</th>\n",
       "      <th>RecipeIngredientParts</th>\n",
       "      <th>AggregatedRating</th>\n",
       "      <th>ReviewCount</th>\n",
       "      <th>RecipeServings</th>\n",
       "      <th>RecipeYield</th>\n",
       "      <th>RecipeInstructions</th>\n",
       "    </tr>\n",
       "  </thead>\n",
       "  <tbody>\n",
       "    <tr>\n",
       "      <th>0</th>\n",
       "      <td>41</td>\n",
       "      <td>Carina's Tofu-Vegetable Kebabs</td>\n",
       "      <td>PT20M</td>\n",
       "      <td>PT24H</td>\n",
       "      <td>PT24H20M</td>\n",
       "      <td>This dish is best prepared a day in advance to...</td>\n",
       "      <td>c(\"https://img.sndimg.com/food/image/upload/w_...</td>\n",
       "      <td>Soy/Tofu</td>\n",
       "      <td>c(\"Beans\", \"Vegetable\", \"Low Cholesterol\", \"We...</td>\n",
       "      <td>c(\"12\", \"1\", \"2\", \"1\", \"10\", \"1\", \"3\", \"2\", \"2...</td>\n",
       "      <td>c(\"extra firm tofu\", \"eggplant\", \"zucchini\", \"...</td>\n",
       "      <td>4.5</td>\n",
       "      <td>2.0</td>\n",
       "      <td>2.0</td>\n",
       "      <td>4 kebabs</td>\n",
       "      <td>c(\"Drain the tofu, carefully squeezing out exc...</td>\n",
       "    </tr>\n",
       "    <tr>\n",
       "      <th>1</th>\n",
       "      <td>43</td>\n",
       "      <td>Best Blackbottom Pie</td>\n",
       "      <td>PT2H</td>\n",
       "      <td>PT20M</td>\n",
       "      <td>PT2H20M</td>\n",
       "      <td>Make and share this Best Blackbottom Pie recip...</td>\n",
       "      <td>character(0)</td>\n",
       "      <td>Pie</td>\n",
       "      <td>c(\"Dessert\", \"Weeknight\", \"Stove Top\", \"&lt; 4 Ho...</td>\n",
       "      <td>c(\"1 1/4\", \"1/4\", \"6\", \"1/3\", \"1/4\", \"1/4\", \"2...</td>\n",
       "      <td>c(\"graham cracker crumbs\", \"sugar\", \"butter\", ...</td>\n",
       "      <td>1.0</td>\n",
       "      <td>1.0</td>\n",
       "      <td>8.0</td>\n",
       "      <td>1 9-inch pie</td>\n",
       "      <td>c(\"Graham Cracker Crust: In small bowl, combin...</td>\n",
       "    </tr>\n",
       "    <tr>\n",
       "      <th>2</th>\n",
       "      <td>54</td>\n",
       "      <td>Carrot Cake</td>\n",
       "      <td>PT50M</td>\n",
       "      <td>PT45M</td>\n",
       "      <td>PT1H35M</td>\n",
       "      <td>This is one of the few recipes my husband ever...</td>\n",
       "      <td>c(\"https://img.sndimg.com/food/image/upload/w_...</td>\n",
       "      <td>Dessert</td>\n",
       "      <td>c(\"Vegetable\", \"Weeknight\", \"Oven\", \"&lt; 4 Hours\")</td>\n",
       "      <td>c(\"3\", \"4\", \"1 1/4\", \"2\", \"2\", \"2\", \"2\", \"1\", ...</td>\n",
       "      <td>c(\"carrots\", \"eggs\", \"white sugar\", \"all-purpo...</td>\n",
       "      <td>5.0</td>\n",
       "      <td>17.0</td>\n",
       "      <td>12.0</td>\n",
       "      <td>1 bundt</td>\n",
       "      <td>c(\"Beat together the eggs, oil, and white suga...</td>\n",
       "    </tr>\n",
       "    <tr>\n",
       "      <th>3</th>\n",
       "      <td>64</td>\n",
       "      <td>Almond Pound Cake</td>\n",
       "      <td>PT1H</td>\n",
       "      <td>PT15M</td>\n",
       "      <td>PT1H15M</td>\n",
       "      <td>Make and share this Almond Pound Cake recipe f...</td>\n",
       "      <td>character(0)</td>\n",
       "      <td>Dessert</td>\n",
       "      <td>c(\"Fruit\", \"Nuts\", \"Weeknight\", \"Oven\", \"&lt; 4 H...</td>\n",
       "      <td>c(\"2/3\", \"3 1/2\", \"1 1/4\", \"4\", \"2 1/4\", \"5\", ...</td>\n",
       "      <td>c(\"butter\", \"almond paste\", \"sugar\", \"eggs\", \"...</td>\n",
       "      <td>4.5</td>\n",
       "      <td>3.0</td>\n",
       "      <td>10.0</td>\n",
       "      <td>1 cake</td>\n",
       "      <td>c(\"Preheat oven to 350 degrees Fahrenheit.\", \"...</td>\n",
       "    </tr>\n",
       "    <tr>\n",
       "      <th>4</th>\n",
       "      <td>94</td>\n",
       "      <td>Blueberry Buttertarts</td>\n",
       "      <td>PT25M</td>\n",
       "      <td>PT15M</td>\n",
       "      <td>PT40M</td>\n",
       "      <td>Make and share this Blueberry Buttertarts reci...</td>\n",
       "      <td>character(0)</td>\n",
       "      <td>Dessert</td>\n",
       "      <td>c(\"Berries\", \"Fruit\", \"&lt; 60 Mins\", \"Oven\")</td>\n",
       "      <td>c(\"12\", \"1\", \"1/2\", \"1\", \"3/4\", \"1/3\", \"1\", \"1...</td>\n",
       "      <td>c(\"egg\", \"corn syrup\", \"lemon juice\", \"vanilla...</td>\n",
       "      <td>5.0</td>\n",
       "      <td>4.0</td>\n",
       "      <td>12.0</td>\n",
       "      <td>12 tarts</td>\n",
       "      <td>c(\"Preheat oven to 375F.\", \"Leave shells in fo...</td>\n",
       "    </tr>\n",
       "  </tbody>\n",
       "</table>\n",
       "</div>"
      ],
      "text/plain": [
       "   RecipeId                            Name CookTime PrepTime TotalTime  \\\n",
       "0        41  Carina's Tofu-Vegetable Kebabs    PT20M    PT24H  PT24H20M   \n",
       "1        43            Best Blackbottom Pie     PT2H    PT20M   PT2H20M   \n",
       "2        54                     Carrot Cake    PT50M    PT45M   PT1H35M   \n",
       "3        64               Almond Pound Cake     PT1H    PT15M   PT1H15M   \n",
       "4        94           Blueberry Buttertarts    PT25M    PT15M     PT40M   \n",
       "\n",
       "                                         Description  \\\n",
       "0  This dish is best prepared a day in advance to...   \n",
       "1  Make and share this Best Blackbottom Pie recip...   \n",
       "2  This is one of the few recipes my husband ever...   \n",
       "3  Make and share this Almond Pound Cake recipe f...   \n",
       "4  Make and share this Blueberry Buttertarts reci...   \n",
       "\n",
       "                                              Images RecipeCategory  \\\n",
       "0  c(\"https://img.sndimg.com/food/image/upload/w_...       Soy/Tofu   \n",
       "1                                       character(0)            Pie   \n",
       "2  c(\"https://img.sndimg.com/food/image/upload/w_...        Dessert   \n",
       "3                                       character(0)        Dessert   \n",
       "4                                       character(0)        Dessert   \n",
       "\n",
       "                                            Keywords  \\\n",
       "0  c(\"Beans\", \"Vegetable\", \"Low Cholesterol\", \"We...   \n",
       "1  c(\"Dessert\", \"Weeknight\", \"Stove Top\", \"< 4 Ho...   \n",
       "2   c(\"Vegetable\", \"Weeknight\", \"Oven\", \"< 4 Hours\")   \n",
       "3  c(\"Fruit\", \"Nuts\", \"Weeknight\", \"Oven\", \"< 4 H...   \n",
       "4         c(\"Berries\", \"Fruit\", \"< 60 Mins\", \"Oven\")   \n",
       "\n",
       "                          RecipeIngredientQuantities  \\\n",
       "0  c(\"12\", \"1\", \"2\", \"1\", \"10\", \"1\", \"3\", \"2\", \"2...   \n",
       "1  c(\"1 1/4\", \"1/4\", \"6\", \"1/3\", \"1/4\", \"1/4\", \"2...   \n",
       "2  c(\"3\", \"4\", \"1 1/4\", \"2\", \"2\", \"2\", \"2\", \"1\", ...   \n",
       "3  c(\"2/3\", \"3 1/2\", \"1 1/4\", \"4\", \"2 1/4\", \"5\", ...   \n",
       "4  c(\"12\", \"1\", \"1/2\", \"1\", \"3/4\", \"1/3\", \"1\", \"1...   \n",
       "\n",
       "                               RecipeIngredientParts  AggregatedRating  \\\n",
       "0  c(\"extra firm tofu\", \"eggplant\", \"zucchini\", \"...               4.5   \n",
       "1  c(\"graham cracker crumbs\", \"sugar\", \"butter\", ...               1.0   \n",
       "2  c(\"carrots\", \"eggs\", \"white sugar\", \"all-purpo...               5.0   \n",
       "3  c(\"butter\", \"almond paste\", \"sugar\", \"eggs\", \"...               4.5   \n",
       "4  c(\"egg\", \"corn syrup\", \"lemon juice\", \"vanilla...               5.0   \n",
       "\n",
       "   ReviewCount  RecipeServings   RecipeYield  \\\n",
       "0          2.0             2.0      4 kebabs   \n",
       "1          1.0             8.0  1 9-inch pie   \n",
       "2         17.0            12.0       1 bundt   \n",
       "3          3.0            10.0        1 cake   \n",
       "4          4.0            12.0      12 tarts   \n",
       "\n",
       "                                  RecipeInstructions  \n",
       "0  c(\"Drain the tofu, carefully squeezing out exc...  \n",
       "1  c(\"Graham Cracker Crust: In small bowl, combin...  \n",
       "2  c(\"Beat together the eggs, oil, and white suga...  \n",
       "3  c(\"Preheat oven to 350 degrees Fahrenheit.\", \"...  \n",
       "4  c(\"Preheat oven to 375F.\", \"Leave shells in fo...  "
      ]
     },
     "execution_count": 11,
     "metadata": {},
     "output_type": "execute_result"
    }
   ],
   "source": [
    "#reset index\n",
    "data = data.reset_index(drop = True)\n",
    "data.head()"
   ]
  },
  {
   "cell_type": "code",
   "execution_count": 12,
   "id": "0f8e38ce",
   "metadata": {
    "execution": {
     "iopub.execute_input": "2024-05-13T07:41:38.500878Z",
     "iopub.status.busy": "2024-05-13T07:41:38.500087Z",
     "iopub.status.idle": "2024-05-13T07:41:38.544718Z",
     "shell.execute_reply": "2024-05-13T07:41:38.543523Z"
    },
    "papermill": {
     "duration": 0.054971,
     "end_time": "2024-05-13T07:41:38.546855",
     "exception": false,
     "start_time": "2024-05-13T07:41:38.491884",
     "status": "completed"
    },
    "tags": []
   },
   "outputs": [
    {
     "name": "stdout",
     "output_type": "stream",
     "text": [
      "<class 'pandas.core.frame.DataFrame'>\n",
      "RangeIndex: 28014 entries, 0 to 28013\n",
      "Data columns (total 16 columns):\n",
      " #   Column                      Non-Null Count  Dtype  \n",
      "---  ------                      --------------  -----  \n",
      " 0   RecipeId                    28014 non-null  int64  \n",
      " 1   Name                        28014 non-null  object \n",
      " 2   CookTime                    28014 non-null  object \n",
      " 3   PrepTime                    28014 non-null  object \n",
      " 4   TotalTime                   28014 non-null  object \n",
      " 5   Description                 28014 non-null  object \n",
      " 6   Images                      28014 non-null  object \n",
      " 7   RecipeCategory              28014 non-null  object \n",
      " 8   Keywords                    28014 non-null  object \n",
      " 9   RecipeIngredientQuantities  28014 non-null  object \n",
      " 10  RecipeIngredientParts       28014 non-null  object \n",
      " 11  AggregatedRating            28014 non-null  float64\n",
      " 12  ReviewCount                 28014 non-null  float64\n",
      " 13  RecipeServings              28014 non-null  float64\n",
      " 14  RecipeYield                 28014 non-null  object \n",
      " 15  RecipeInstructions          28014 non-null  object \n",
      "dtypes: float64(3), int64(1), object(12)\n",
      "memory usage: 3.4+ MB\n"
     ]
    }
   ],
   "source": [
    "data.info()"
   ]
  },
  {
   "cell_type": "code",
   "execution_count": 13,
   "id": "25c7f44f",
   "metadata": {
    "execution": {
     "iopub.execute_input": "2024-05-13T07:41:38.563090Z",
     "iopub.status.busy": "2024-05-13T07:41:38.562403Z",
     "iopub.status.idle": "2024-05-13T07:41:38.603618Z",
     "shell.execute_reply": "2024-05-13T07:41:38.602602Z"
    },
    "papermill": {
     "duration": 0.051783,
     "end_time": "2024-05-13T07:41:38.605803",
     "exception": false,
     "start_time": "2024-05-13T07:41:38.554020",
     "status": "completed"
    },
    "tags": []
   },
   "outputs": [
    {
     "data": {
      "text/plain": [
       "RecipeId                      0\n",
       "Name                          0\n",
       "CookTime                      0\n",
       "PrepTime                      0\n",
       "TotalTime                     0\n",
       "Description                   0\n",
       "Images                        0\n",
       "RecipeCategory                0\n",
       "Keywords                      0\n",
       "RecipeIngredientQuantities    0\n",
       "RecipeIngredientParts         0\n",
       "AggregatedRating              0\n",
       "ReviewCount                   0\n",
       "RecipeServings                0\n",
       "RecipeYield                   0\n",
       "RecipeInstructions            0\n",
       "dtype: int64"
      ]
     },
     "execution_count": 13,
     "metadata": {},
     "output_type": "execute_result"
    }
   ],
   "source": [
    "data.isnull().sum()"
   ]
  },
  {
   "cell_type": "code",
   "execution_count": 14,
   "id": "6c44a72b",
   "metadata": {
    "execution": {
     "iopub.execute_input": "2024-05-13T07:41:38.622465Z",
     "iopub.status.busy": "2024-05-13T07:41:38.621681Z",
     "iopub.status.idle": "2024-05-13T07:41:38.641700Z",
     "shell.execute_reply": "2024-05-13T07:41:38.640630Z"
    },
    "papermill": {
     "duration": 0.031041,
     "end_time": "2024-05-13T07:41:38.644178",
     "exception": false,
     "start_time": "2024-05-13T07:41:38.613137",
     "status": "completed"
    },
    "tags": []
   },
   "outputs": [],
   "source": [
    "dataset = data.copy()\n",
    "dataset.drop(columns=[\"Images\", \"RecipeInstructions\", \"CookTime\", \"PrepTime\", \"Description\"], inplace = True)"
   ]
  },
  {
   "cell_type": "code",
   "execution_count": 15,
   "id": "0fbbbc8b",
   "metadata": {
    "execution": {
     "iopub.execute_input": "2024-05-13T07:41:38.660672Z",
     "iopub.status.busy": "2024-05-13T07:41:38.659911Z",
     "iopub.status.idle": "2024-05-13T07:41:38.689850Z",
     "shell.execute_reply": "2024-05-13T07:41:38.688706Z"
    },
    "papermill": {
     "duration": 0.040914,
     "end_time": "2024-05-13T07:41:38.692528",
     "exception": false,
     "start_time": "2024-05-13T07:41:38.651614",
     "status": "completed"
    },
    "tags": []
   },
   "outputs": [
    {
     "name": "stdout",
     "output_type": "stream",
     "text": [
      "<class 'pandas.core.frame.DataFrame'>\n",
      "RangeIndex: 28014 entries, 0 to 28013\n",
      "Data columns (total 11 columns):\n",
      " #   Column                      Non-Null Count  Dtype  \n",
      "---  ------                      --------------  -----  \n",
      " 0   RecipeId                    28014 non-null  int64  \n",
      " 1   Name                        28014 non-null  object \n",
      " 2   TotalTime                   28014 non-null  object \n",
      " 3   RecipeCategory              28014 non-null  object \n",
      " 4   Keywords                    28014 non-null  object \n",
      " 5   RecipeIngredientQuantities  28014 non-null  object \n",
      " 6   RecipeIngredientParts       28014 non-null  object \n",
      " 7   AggregatedRating            28014 non-null  float64\n",
      " 8   ReviewCount                 28014 non-null  float64\n",
      " 9   RecipeServings              28014 non-null  float64\n",
      " 10  RecipeYield                 28014 non-null  object \n",
      "dtypes: float64(3), int64(1), object(7)\n",
      "memory usage: 2.4+ MB\n"
     ]
    }
   ],
   "source": [
    "dataset.info()"
   ]
  },
  {
   "cell_type": "code",
   "execution_count": 16,
   "id": "ef7767f8",
   "metadata": {
    "execution": {
     "iopub.execute_input": "2024-05-13T07:41:38.709235Z",
     "iopub.status.busy": "2024-05-13T07:41:38.708868Z",
     "iopub.status.idle": "2024-05-13T07:41:38.762271Z",
     "shell.execute_reply": "2024-05-13T07:41:38.761415Z"
    },
    "papermill": {
     "duration": 0.064614,
     "end_time": "2024-05-13T07:41:38.764657",
     "exception": false,
     "start_time": "2024-05-13T07:41:38.700043",
     "status": "completed"
    },
    "tags": []
   },
   "outputs": [],
   "source": [
    "import pickle\n",
    "pickle.dump(dataset, open('/kaggle/working/dataset.pkl', 'wb'))"
   ]
  },
  {
   "cell_type": "code",
   "execution_count": 17,
   "id": "30eb8096",
   "metadata": {
    "execution": {
     "iopub.execute_input": "2024-05-13T07:41:38.781595Z",
     "iopub.status.busy": "2024-05-13T07:41:38.780783Z",
     "iopub.status.idle": "2024-05-13T07:42:28.344305Z",
     "shell.execute_reply": "2024-05-13T07:42:28.343390Z"
    },
    "papermill": {
     "duration": 49.574645,
     "end_time": "2024-05-13T07:42:28.346872",
     "exception": false,
     "start_time": "2024-05-13T07:41:38.772227",
     "status": "completed"
    },
    "tags": []
   },
   "outputs": [
    {
     "name": "stdout",
     "output_type": "stream",
     "text": [
      "[['extra', 'firm', 'tofu', 'eggplant', 'zucchini', 'mushrooms', 'soy', 'sauce', 'low', 'sodium', 'soy', 'sauce', 'olive', 'oil', 'maple', 'syrup', 'honey', 'red', 'wine', 'vinegar', 'lemon', 'juice', 'garlic', 'cloves', 'mustard', 'powder', 'black', 'pepper'], ['graham', 'cracker', 'crumbs', 'sugar', 'butter', 'sugar', 'cornstarch', 'salt', 'milk', 'vanilla', 'extract', 'water', 'gelatin', 'rum', 'cream', 'of', 'tartar', 'sugar'], ['carrots', 'eggs', 'white', 'sugar', 'allpurpose', 'flour', 'baking', 'powder', 'baking', 'soda', 'cinnamon', 'salt', 'nutmeg', 'golden', 'raisin', 'confectioners', 'sugar', 'cream', 'cheese', 'light', 'corn', 'syrup', 'vanilla', 'extract'], ['butter', 'almond', 'paste', 'sugar', 'eggs', 'flour', 'cornstarch', 'baking', 'powder', 'milk']]\n"
     ]
    }
   ],
   "source": [
    "import re\n",
    "from gensim.models import Word2Vec\n",
    "from nltk.tokenize import word_tokenize\n",
    "\n",
    "#columns = [\"RecipeIngredientParts\", \"Keywords\", \"RecipeCategory\"]\n",
    "\n",
    "# Tokenize the sentences into words\n",
    "tokenized_corpus = [word_tokenize(sentence.lower()) for sentence in dataset[\"RecipeIngredientParts\"]]\n",
    "\n",
    "# Ekspresi reguler untuk mencocokkan simbol-simbol\n",
    "symbol_pattern = re.compile(r'[^\\w\\s]')\n",
    "\n",
    "# Menghapus simbol-simbol dari setiap token dalam tokenized_corpus\n",
    "tokenized_corpus = [[symbol_pattern.sub('', token) for token in sentence] for sentence in tokenized_corpus]\n",
    "\n",
    "# Menghapus nilai null atau item kosong dari tokenized_corpus\n",
    "tokenized_corpus = [[token for token in sentence if token] for sentence in tokenized_corpus]\n",
    "\n",
    "# Value to be removed\n",
    "value_to_remove = 'c'\n",
    "\n",
    "# Remove items containing the specific value from tokenized_corpus\n",
    "tokenized_corpus = [[token for token in sentence if token != value_to_remove] for sentence in tokenized_corpus]\n",
    "\n",
    "# Mencetak tokenized_corpus yang telah bersih dari simbol-simbol\n",
    "print(tokenized_corpus[:4])\n",
    "\n",
    "# Train Word2Vec model\n",
    "model = Word2Vec(sentences=tokenized_corpus, vector_size=100, window=5, min_count=1, sg=0)\n",
    "\n",
    "# Function to calculate mean vector of a sentence\n",
    "def get_mean_vector(words):\n",
    "    vectors = [model.wv[word] for word in words if word in model.wv.index_to_key]\n",
    "    if len(vectors) == 0:\n",
    "        return None\n",
    "    return pd.Series(vectors).mean()\n",
    "\n",
    "# Apply function to create embeddings for each row\n",
    "dataset['embedding'] = dataset[\"RecipeIngredientParts\"].apply(lambda x: get_mean_vector(word_tokenize(x.lower())))\n"
   ]
  },
  {
   "cell_type": "code",
   "execution_count": 18,
   "id": "127f126e",
   "metadata": {
    "execution": {
     "iopub.execute_input": "2024-05-13T07:42:28.364761Z",
     "iopub.status.busy": "2024-05-13T07:42:28.364165Z",
     "iopub.status.idle": "2024-05-13T07:42:28.376453Z",
     "shell.execute_reply": "2024-05-13T07:42:28.375378Z"
    },
    "papermill": {
     "duration": 0.024257,
     "end_time": "2024-05-13T07:42:28.378966",
     "exception": false,
     "start_time": "2024-05-13T07:42:28.354709",
     "status": "completed"
    },
    "tags": []
   },
   "outputs": [
    {
     "name": "stdout",
     "output_type": "stream",
     "text": [
      "0        [-0.04436926, -0.24763787, 0.20185442, 0.34191...\n",
      "1        [-0.22274798, 0.65119165, 0.024844822, 0.08544...\n",
      "2        [-0.47148606, 0.7653491, 0.04297047, 0.3173203...\n",
      "3        [-0.45664492, 0.54485595, 0.06770645, 0.231686...\n",
      "4        [-0.7032327, 0.6451396, -0.1517752, 0.20877223...\n",
      "                               ...                        \n",
      "28009    [-0.18312652, 0.07356446, -0.006067574, 0.2557...\n",
      "28010    [0.15422842, -0.074326366, 0.33341074, 0.48900...\n",
      "28011    [0.6482543, 0.18637918, -0.3512861, -0.3513258...\n",
      "28012    [-1.0635207, 0.7303425, -0.020067453, 0.387660...\n",
      "28013    [-0.64787644, 0.97281575, 0.010317886, 0.27626...\n",
      "Name: embedding, Length: 28014, dtype: object\n"
     ]
    }
   ],
   "source": [
    "print(dataset['embedding'])"
   ]
  },
  {
   "cell_type": "code",
   "execution_count": 19,
   "id": "f1556d46",
   "metadata": {
    "execution": {
     "iopub.execute_input": "2024-05-13T07:42:28.395903Z",
     "iopub.status.busy": "2024-05-13T07:42:28.395501Z",
     "iopub.status.idle": "2024-05-13T07:42:28.403487Z",
     "shell.execute_reply": "2024-05-13T07:42:28.402506Z"
    },
    "papermill": {
     "duration": 0.019276,
     "end_time": "2024-05-13T07:42:28.405929",
     "exception": false,
     "start_time": "2024-05-13T07:42:28.386653",
     "status": "completed"
    },
    "tags": []
   },
   "outputs": [
    {
     "name": "stdout",
     "output_type": "stream",
     "text": [
      "Cosine similarity between first and second rows: 0.5756925\n"
     ]
    }
   ],
   "source": [
    "from sklearn.metrics.pairwise import cosine_similarity\n",
    "\n",
    "# Function to calculate cosine similarity between two vectors\n",
    "def calculate_cosine_similarity(embedding1, embedding2):\n",
    "    if embedding1 is None or embedding2 is None:\n",
    "        return None\n",
    "    return cosine_similarity([embedding1], [embedding2])[0][0]\n",
    "\n",
    "# Example usage: calculate cosine similarity between first and second rows\n",
    "cosine_sim = calculate_cosine_similarity(dataset['embedding'][3], dataset['embedding'][5])\n",
    "print(\"Cosine similarity between first and second rows:\", cosine_sim)\n"
   ]
  },
  {
   "cell_type": "code",
   "execution_count": 20,
   "id": "b5cfe027",
   "metadata": {
    "execution": {
     "iopub.execute_input": "2024-05-13T07:42:28.422913Z",
     "iopub.status.busy": "2024-05-13T07:42:28.422224Z",
     "iopub.status.idle": "2024-05-13T07:42:35.597969Z",
     "shell.execute_reply": "2024-05-13T07:42:35.596887Z"
    },
    "papermill": {
     "duration": 7.186772,
     "end_time": "2024-05-13T07:42:35.600331",
     "exception": false,
     "start_time": "2024-05-13T07:42:28.413559",
     "status": "completed"
    },
    "tags": []
   },
   "outputs": [
    {
     "name": "stdout",
     "output_type": "stream",
     "text": [
      "Recommendations based on the first row embedding:\n"
     ]
    },
    {
     "data": {
      "text/plain": [
       "8       c(\"eggs\", \"sugar\", \"vanilla extract\", \"zucchin...\n",
       "1074    c(\"eggs\", \"zucchini\", \"vanilla extract\", \"suga...\n",
       "9071    c(\"pecans\", \"eggs\", \"sugar\", \"flour\", \"baking ...\n",
       "7631    c(\"eggs\", \"sugar\", \"vanilla\", \"zucchini\", \"flo...\n",
       "2031    c(\"eggs\", \"sugar\", \"zucchini\", \"flour\", \"bakin...\n",
       "Name: RecipeIngredientParts, dtype: object"
      ]
     },
     "execution_count": 20,
     "metadata": {},
     "output_type": "execute_result"
    }
   ],
   "source": [
    "# Function to generate recommendations based on cosine similarity\n",
    "def generate_recommendations(query_embedding, df, top_n=5):\n",
    "    similarities = df['embedding'].apply(lambda x: calculate_cosine_similarity(query_embedding, x))\n",
    "    df['similarity'] = similarities\n",
    "    recommendations = df.sort_values(by='similarity', ascending=False).head(top_n)\n",
    "    return recommendations.drop(columns=['embedding', 'similarity'])\n",
    "\n",
    "# Example usage: generate recommendations based on the first row embedding\n",
    "query_embedding = dataset['embedding'][8]\n",
    "recommendations = generate_recommendations(query_embedding, dataset)\n",
    "print(\"Recommendations based on the first row embedding:\")\n",
    "recommendations.RecipeIngredientParts\n"
   ]
  },
  {
   "cell_type": "code",
   "execution_count": 21,
   "id": "32705b51",
   "metadata": {
    "execution": {
     "iopub.execute_input": "2024-05-13T07:42:35.617986Z",
     "iopub.status.busy": "2024-05-13T07:42:35.617171Z",
     "iopub.status.idle": "2024-05-13T07:42:35.633278Z",
     "shell.execute_reply": "2024-05-13T07:42:35.632320Z"
    },
    "papermill": {
     "duration": 0.027497,
     "end_time": "2024-05-13T07:42:35.635648",
     "exception": false,
     "start_time": "2024-05-13T07:42:35.608151",
     "status": "completed"
    },
    "tags": []
   },
   "outputs": [
    {
     "data": {
      "text/html": [
       "<div>\n",
       "<style scoped>\n",
       "    .dataframe tbody tr th:only-of-type {\n",
       "        vertical-align: middle;\n",
       "    }\n",
       "\n",
       "    .dataframe tbody tr th {\n",
       "        vertical-align: top;\n",
       "    }\n",
       "\n",
       "    .dataframe thead th {\n",
       "        text-align: right;\n",
       "    }\n",
       "</style>\n",
       "<table border=\"1\" class=\"dataframe\">\n",
       "  <thead>\n",
       "    <tr style=\"text-align: right;\">\n",
       "      <th></th>\n",
       "      <th>RecipeId</th>\n",
       "      <th>Name</th>\n",
       "      <th>TotalTime</th>\n",
       "      <th>RecipeCategory</th>\n",
       "      <th>Keywords</th>\n",
       "      <th>RecipeIngredientQuantities</th>\n",
       "      <th>RecipeIngredientParts</th>\n",
       "      <th>AggregatedRating</th>\n",
       "      <th>ReviewCount</th>\n",
       "      <th>RecipeServings</th>\n",
       "      <th>RecipeYield</th>\n",
       "    </tr>\n",
       "  </thead>\n",
       "  <tbody>\n",
       "    <tr>\n",
       "      <th>8</th>\n",
       "      <td>220</td>\n",
       "      <td>Chocolate Zucchini Bread</td>\n",
       "      <td>PT1H25M</td>\n",
       "      <td>Quick Breads</td>\n",
       "      <td>c(\"Breads\", \"Vegetable\", \"Sweet\", \"Weeknight\",...</td>\n",
       "      <td>c(\"3\", \"1\", \"2\", \"1\", \"2\", \"2 1/2\", \"1/2\", \"1\"...</td>\n",
       "      <td>c(\"eggs\", \"sugar\", \"vanilla extract\", \"zucchin...</td>\n",
       "      <td>5.0</td>\n",
       "      <td>162.0</td>\n",
       "      <td>10.0</td>\n",
       "      <td>2 loaves</td>\n",
       "    </tr>\n",
       "    <tr>\n",
       "      <th>1074</th>\n",
       "      <td>22524</td>\n",
       "      <td>Mary's Zucchini Bread</td>\n",
       "      <td>PT1H20M</td>\n",
       "      <td>Breads</td>\n",
       "      <td>c(\"Weeknight\", \"For Large Groups\", \"Oven\", \"&lt; ...</td>\n",
       "      <td>c(\"3\", \"1\", \"2\", \"2\", \"2\", \"3\", \"3\", \"1\", \"1\",...</td>\n",
       "      <td>c(\"eggs\", \"zucchini\", \"vanilla extract\", \"suga...</td>\n",
       "      <td>5.0</td>\n",
       "      <td>24.0</td>\n",
       "      <td>24.0</td>\n",
       "      <td>2 loaves</td>\n",
       "    </tr>\n",
       "    <tr>\n",
       "      <th>9071</th>\n",
       "      <td>241620</td>\n",
       "      <td>Mommy's Zucchini Bread</td>\n",
       "      <td>PT1H20M</td>\n",
       "      <td>Quick Breads</td>\n",
       "      <td>c(\"Breads\", \"&lt; 4 Hours\")</td>\n",
       "      <td>c(\"1\", \"4\", \"2\", \"1\", \"3 1/2\", \"1 1/2\", \"1/2\",...</td>\n",
       "      <td>c(\"pecans\", \"eggs\", \"sugar\", \"flour\", \"baking ...</td>\n",
       "      <td>5.0</td>\n",
       "      <td>1.0</td>\n",
       "      <td>10.0</td>\n",
       "      <td>2 small loaves</td>\n",
       "    </tr>\n",
       "    <tr>\n",
       "      <th>7631</th>\n",
       "      <td>205691</td>\n",
       "      <td>Zucchini Bread</td>\n",
       "      <td>PT1H15M</td>\n",
       "      <td>Quick Breads</td>\n",
       "      <td>c(\"Breads\", \"Lunch/Snacks\", \"Vegetable\", \"For ...</td>\n",
       "      <td>c(\"3\", \"1\", \"2\", \"3\", \"2\", \"3\", \"2\", \"1/4\", \"1...</td>\n",
       "      <td>c(\"eggs\", \"sugar\", \"vanilla\", \"zucchini\", \"flo...</td>\n",
       "      <td>5.0</td>\n",
       "      <td>1.0</td>\n",
       "      <td>20.0</td>\n",
       "      <td>2 loaves</td>\n",
       "    </tr>\n",
       "    <tr>\n",
       "      <th>2031</th>\n",
       "      <td>48013</td>\n",
       "      <td>Amy's Chocolate Chip Zucchini Bread</td>\n",
       "      <td>PT1H10M</td>\n",
       "      <td>Quick Breads</td>\n",
       "      <td>c(\"Breads\", \"Lunch/Snacks\", \"Grains\", \"Vegetab...</td>\n",
       "      <td>c(\"6\", \"4\", \"2\", \"4 -5\", \"6\", \"2\", \"1\", \"2\", \"...</td>\n",
       "      <td>c(\"eggs\", \"sugar\", \"zucchini\", \"flour\", \"bakin...</td>\n",
       "      <td>5.0</td>\n",
       "      <td>63.0</td>\n",
       "      <td>4.0</td>\n",
       "      <td>4 loaves</td>\n",
       "    </tr>\n",
       "  </tbody>\n",
       "</table>\n",
       "</div>"
      ],
      "text/plain": [
       "      RecipeId                                 Name TotalTime RecipeCategory  \\\n",
       "8          220             Chocolate Zucchini Bread   PT1H25M   Quick Breads   \n",
       "1074     22524                Mary's Zucchini Bread   PT1H20M         Breads   \n",
       "9071    241620               Mommy's Zucchini Bread   PT1H20M   Quick Breads   \n",
       "7631    205691                       Zucchini Bread   PT1H15M   Quick Breads   \n",
       "2031     48013  Amy's Chocolate Chip Zucchini Bread   PT1H10M   Quick Breads   \n",
       "\n",
       "                                               Keywords  \\\n",
       "8     c(\"Breads\", \"Vegetable\", \"Sweet\", \"Weeknight\",...   \n",
       "1074  c(\"Weeknight\", \"For Large Groups\", \"Oven\", \"< ...   \n",
       "9071                           c(\"Breads\", \"< 4 Hours\")   \n",
       "7631  c(\"Breads\", \"Lunch/Snacks\", \"Vegetable\", \"For ...   \n",
       "2031  c(\"Breads\", \"Lunch/Snacks\", \"Grains\", \"Vegetab...   \n",
       "\n",
       "                             RecipeIngredientQuantities  \\\n",
       "8     c(\"3\", \"1\", \"2\", \"1\", \"2\", \"2 1/2\", \"1/2\", \"1\"...   \n",
       "1074  c(\"3\", \"1\", \"2\", \"2\", \"2\", \"3\", \"3\", \"1\", \"1\",...   \n",
       "9071  c(\"1\", \"4\", \"2\", \"1\", \"3 1/2\", \"1 1/2\", \"1/2\",...   \n",
       "7631  c(\"3\", \"1\", \"2\", \"3\", \"2\", \"3\", \"2\", \"1/4\", \"1...   \n",
       "2031  c(\"6\", \"4\", \"2\", \"4 -5\", \"6\", \"2\", \"1\", \"2\", \"...   \n",
       "\n",
       "                                  RecipeIngredientParts  AggregatedRating  \\\n",
       "8     c(\"eggs\", \"sugar\", \"vanilla extract\", \"zucchin...               5.0   \n",
       "1074  c(\"eggs\", \"zucchini\", \"vanilla extract\", \"suga...               5.0   \n",
       "9071  c(\"pecans\", \"eggs\", \"sugar\", \"flour\", \"baking ...               5.0   \n",
       "7631  c(\"eggs\", \"sugar\", \"vanilla\", \"zucchini\", \"flo...               5.0   \n",
       "2031  c(\"eggs\", \"sugar\", \"zucchini\", \"flour\", \"bakin...               5.0   \n",
       "\n",
       "      ReviewCount  RecipeServings     RecipeYield  \n",
       "8           162.0            10.0        2 loaves  \n",
       "1074         24.0            24.0        2 loaves  \n",
       "9071          1.0            10.0  2 small loaves  \n",
       "7631          1.0            20.0        2 loaves  \n",
       "2031         63.0             4.0        4 loaves  "
      ]
     },
     "execution_count": 21,
     "metadata": {},
     "output_type": "execute_result"
    }
   ],
   "source": [
    "recommendations"
   ]
  },
  {
   "cell_type": "markdown",
   "id": "dc2c499c",
   "metadata": {
    "papermill": {
     "duration": 0.007879,
     "end_time": "2024-05-13T07:42:35.651864",
     "exception": false,
     "start_time": "2024-05-13T07:42:35.643985",
     "status": "completed"
    },
    "tags": []
   },
   "source": [
    "how to combine 2 or more tokenize list for recommendation?"
   ]
  }
 ],
 "metadata": {
  "kaggle": {
   "accelerator": "none",
   "dataSources": [
    {
     "datasetId": 1063627,
     "sourceId": 1789966,
     "sourceType": "datasetVersion"
    }
   ],
   "dockerImageVersionId": 30698,
   "isGpuEnabled": false,
   "isInternetEnabled": false,
   "language": "python",
   "sourceType": "notebook"
  },
  "kernelspec": {
   "display_name": "Python 3",
   "language": "python",
   "name": "python3"
  },
  "language_info": {
   "codemirror_mode": {
    "name": "ipython",
    "version": 3
   },
   "file_extension": ".py",
   "mimetype": "text/x-python",
   "name": "python",
   "nbconvert_exporter": "python",
   "pygments_lexer": "ipython3",
   "version": "3.10.13"
  },
  "papermill": {
   "default_parameters": {},
   "duration": 85.734349,
   "end_time": "2024-05-13T07:42:36.883216",
   "environment_variables": {},
   "exception": null,
   "input_path": "__notebook__.ipynb",
   "output_path": "__notebook__.ipynb",
   "parameters": {},
   "start_time": "2024-05-13T07:41:11.148867",
   "version": "2.5.0"
  }
 },
 "nbformat": 4,
 "nbformat_minor": 5
}
